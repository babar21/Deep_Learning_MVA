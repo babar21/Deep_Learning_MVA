{
  "nbformat": 4,
  "nbformat_minor": 0,
  "metadata": {
    "colab": {
      "name": "nlp_project.ipynb",
      "version": "0.3.2",
      "provenance": [],
      "collapsed_sections": [],
      "toc_visible": true,
      "include_colab_link": true
    },
    "kernelspec": {
      "name": "python3",
      "display_name": "Python 3"
    }
  },
  "cells": [
    {
      "cell_type": "markdown",
      "metadata": {
        "id": "view-in-github",
        "colab_type": "text"
      },
      "source": [
        "<a href=\"https://colab.research.google.com/github/babar21/Deep_Learning_MVA/blob/master/nlp_project.ipynb\" target=\"_parent\"><img src=\"https://colab.research.google.com/assets/colab-badge.svg\" alt=\"Open In Colab\"/></a>"
      ]
    },
    {
      "metadata": {
        "id": "k5tH9IGUBrvc",
        "colab_type": "text"
      },
      "cell_type": "markdown",
      "source": [
        "# Deep Learning for NLP - Project"
      ]
    },
    {
      "metadata": {
        "id": "0oqxxckkBrvg",
        "colab_type": "text"
      },
      "cell_type": "markdown",
      "source": [
        "RULES:\n",
        "\n",
        "* Do not create any additional cell\n",
        "\n",
        "* Fill in the blanks\n",
        "\n",
        "* All cells should be runnable (modulo trivial compatibility bugs that we'd fix)\n",
        "\n",
        "* 4 / 20 points will be allocated to the clarity of your code\n",
        "\n",
        "* Efficient code will have a bonus\n",
        "\n",
        "DELIVERABLE:\n",
        "\n",
        "* this notebook\n",
        "* the predictions of the SST test set\n",
        "\n",
        "DO NOT INCLUDE THE DATASETS IN THE DELIVERABLE.."
      ]
    },
    {
      "metadata": {
        "id": "O5_sfUNFBrvk",
        "colab_type": "code",
        "colab": {}
      },
      "cell_type": "code",
      "source": [
        "import io\n",
        "import os\n",
        "import numpy as np\n",
        "import scipy\n",
        "from operator import itemgetter"
      ],
      "execution_count": 0,
      "outputs": []
    },
    {
      "metadata": {
        "id": "0UISWaIyBrvt",
        "colab_type": "code",
        "outputId": "cea2db3b-a0ad-4278-9f60-5ae3840f8028",
        "colab": {
          "base_uri": "https://localhost:8080/",
          "height": 191
        }
      },
      "cell_type": "code",
      "source": [
        "#PATH_TO_DATA = \"/Users/bastien/Documents/ENS_2018-2019/Deep Learning/MP2/data/\"\n",
        "\n",
        "PATH_TO_DATA = \"/content/gdrive/My Drive/Colab Notebooks/Deep MP2/\"\n",
        "\n",
        "from google.colab import drive\n",
        "from google.colab import files\n",
        "\n",
        "drive.mount('/content/gdrive')"
      ],
      "execution_count": 3,
      "outputs": [
        {
          "output_type": "stream",
          "text": [
            "Go to this URL in a browser: https://accounts.google.com/o/oauth2/auth?client_id=947318989803-6bn6qk8qdgf4n4g3pfee6491hc0brc4i.apps.googleusercontent.com&redirect_uri=urn%3Aietf%3Awg%3Aoauth%3A2.0%3Aoob&scope=email%20https%3A%2F%2Fwww.googleapis.com%2Fauth%2Fdocs.test%20https%3A%2F%2Fwww.googleapis.com%2Fauth%2Fdrive%20https%3A%2F%2Fwww.googleapis.com%2Fauth%2Fdrive.photos.readonly%20https%3A%2F%2Fwww.googleapis.com%2Fauth%2Fpeopleapi.readonly&response_type=code\n",
            "\n",
            "Enter your authorization code:\n",
            "··········\n",
            "Mounted at /content/gdrive\n"
          ],
          "name": "stdout"
        }
      ]
    },
    {
      "metadata": {
        "id": "lI6AuSfJBrvz",
        "colab_type": "text"
      },
      "cell_type": "markdown",
      "source": [
        "# 1) Monolingual (English) word embeddings "
      ]
    },
    {
      "metadata": {
        "id": "zBvsNcmsBrv1",
        "colab_type": "code",
        "colab": {}
      },
      "cell_type": "code",
      "source": [
        "class Word2vec():\n",
        "    def __init__(self, fname, nmax=100000):\n",
        "        self.load_wordvec(fname, nmax)\n",
        "        self.word2id = dict.fromkeys(self.word2vec.keys())\n",
        "        self.id2word = {v: k for k, v in self.word2id.items()}\n",
        "        self.embeddings = np.array(self.word2vec.values())\n",
        "    \n",
        "    def load_wordvec(self, fname, nmax):\n",
        "        self.word2vec = {}\n",
        "        with io.open(fname, encoding='utf-8') as f:\n",
        "            next(f)\n",
        "            for i, line in enumerate(f):\n",
        "                word, vec = line.split(' ', 1)\n",
        "                self.word2vec[word] = np.fromstring(vec, sep=' ')\n",
        "                if i == (nmax - 1):\n",
        "                    break\n",
        "        print('Loaded %s pretrained word vectors' % (len(self.word2vec)))\n",
        "\n",
        "    def most_similar(self, w, K=5):\n",
        "        # K most similar words: self.score  -  np.argsort \n",
        "        # brute force\n",
        "        list_score = []\n",
        "        for key, value in self.word2vec.items():\n",
        "            if key == w :\n",
        "                pass\n",
        "            else :\n",
        "                list_score.append((key, self.score(w,key)))    \n",
        "        sorted_list_score = sorted(list_score,key=itemgetter(1))\n",
        "        return [u[0] for u in sorted_list_score[-K:]]\n",
        "\n",
        "    def score(self, w1, w2):\n",
        "        # cosine similarity: np.dot  -  np.linalg.norm\n",
        "        return np.dot(self.word2vec[w1], self.word2vec[w2])/(np.linalg.norm(self.word2vec[w1])*\n",
        "                                                                             np.linalg.norm(self.word2vec[w2]))\n"
      ],
      "execution_count": 0,
      "outputs": []
    },
    {
      "metadata": {
        "scrolled": true,
        "id": "quuT8vE3Brv7",
        "colab_type": "code",
        "outputId": "36e3caac-7a6f-41ef-9e36-7b64c0e72971",
        "colab": {
          "base_uri": "https://localhost:8080/",
          "height": 204
        }
      },
      "cell_type": "code",
      "source": [
        "w2v = Word2vec(os.path.join(PATH_TO_DATA, 'crawl-300d-200k.vec'), nmax=55000)\n",
        "\n",
        "# You will be evaluated on the output of the following:\n",
        "for w1, w2 in zip(('cat', 'dog', 'dogs', 'paris', 'germany'), ('dog', 'pet', 'cats', 'france', 'berlin')):\n",
        "    print(w1, w2, w2v.score(w1, w2))\n",
        "for w1 in ['cat', 'dog', 'dogs', 'paris', 'germany']:\n",
        "    print(w1,w2v.most_similar(w1))"
      ],
      "execution_count": 5,
      "outputs": [
        {
          "output_type": "stream",
          "text": [
            "Loaded 55000 pretrained word vectors\n",
            "cat dog 0.671683666279249\n",
            "dog pet 0.6842064029669219\n",
            "dogs cats 0.7074389328052404\n",
            "paris france 0.7775108541288563\n",
            "germany berlin 0.7420295235998394\n",
            "cat ['kitties', 'feline', 'kitten', 'kitty', 'cats']\n",
            "dog ['canine', 'doggie', 'Dog', 'puppy', 'dogs']\n",
            "dogs ['puppies', 'canines', 'doggies', 'Dogs', 'dog']\n",
            "paris ['europe', 'berlin', 'london', 'Paris', 'france']\n",
            "germany ['italy', 'france', 'berlin', 'german', 'europe']\n"
          ],
          "name": "stdout"
        }
      ]
    },
    {
      "metadata": {
        "id": "AHfz-cySBrwF",
        "colab_type": "code",
        "colab": {}
      },
      "cell_type": "code",
      "source": [
        "class BoV():\n",
        "    def __init__(self, w2v):\n",
        "        self.w2v = w2v\n",
        "    \n",
        "    def encode(self, sentences, idf=False):\n",
        "        # takes a list of sentences, outputs a numpy array of sentence embeddings\n",
        "        # see TP1 for help\n",
        "        sentemb = []\n",
        "        for sent in sentences:\n",
        "            if idf is False:\n",
        "                # mean of word vectors\n",
        "                all_words = [self.w2v.word2vec.get(word) for word in sent.split()]\n",
        "                all_words = list(filter(None.__ne__, all_words))\n",
        "                if all_words:\n",
        "                    sentemb.append(np.array(all_words).mean(axis=0))\n",
        "            else:\n",
        "                # idf-weighted mean of word vectors\n",
        "                all_weight=[]\n",
        "                all_words=[]\n",
        "                for word in sent.split():\n",
        "                    if (self.w2v.word2vec.get(word) is None) or (idf.get(word) is None):\n",
        "                        pass\n",
        "                    else:\n",
        "                        all_words.append(self.w2v.word2vec[word]*idf[word])\n",
        "                        all_weight.append(idf[word])\n",
        "                if all_words:\n",
        "                    sentemb.append(np.array(all_words).sum(axis=0)/np.sum(all_weight))\n",
        "        return np.vstack(sentemb)\n",
        "\n",
        "    def most_similar(self, s, sentences, idf=False, K=5):\n",
        "        # get most similar sentences and **print** them\n",
        "        keys = self.encode(sentences, idf)\n",
        "        query = self.encode([s], idf)\n",
        "        l_dist = []\n",
        "        for i in range(np.shape(keys)[0]):\n",
        "            l_dist.append(self.score(query[0],keys[i,:],idf))\n",
        "        sorted_dist_idx = np.argsort(l_dist)\n",
        "        print('original sentence : {}'.format(s))\n",
        "        for a in sorted_dist_idx[-K:]:\n",
        "            print('  {}'.format(sentences[a]))\n",
        "        return\n",
        "\n",
        "    def score(self, s1, s2, idf=False):\n",
        "        # cosine similarity: use   np.dot  and  np.linalg.norm\n",
        "        if type(s1) == str :\n",
        "            s1 = self.encode([s1],idf)[0]\n",
        "        if type(s2) == str :\n",
        "            s2 = self.encode([s2],idf)[0]    \n",
        "        return np.dot(s1, s2)/(np.linalg.norm(s1)*np.linalg.norm(s2))\n",
        "    \n",
        "    def build_idf(self, sentences):\n",
        "        # build the idf dictionary: associate each word to its idf value\n",
        "        idf = {}\n",
        "        for sent in sentences:\n",
        "             for w in sent.split():\n",
        "                idf[w] = idf.get(w, 0) + 1\n",
        "        tf = {}\n",
        "        for word, count in idf.items():\n",
        "            tf[word] = max(1, np.log10(len(sentences) / count))\n",
        "        return tf"
      ],
      "execution_count": 0,
      "outputs": []
    },
    {
      "metadata": {
        "id": "VQm_mb4TBrwJ",
        "colab_type": "code",
        "outputId": "4ff075d6-ff3d-4257-da48-10d65435d787",
        "colab": {
          "base_uri": "https://localhost:8080/",
          "height": 272
        }
      },
      "cell_type": "code",
      "source": [
        "w2v = Word2vec(os.path.join(PATH_TO_DATA, 'crawl-300d-200k.vec'), nmax=200000)\n",
        "s2v = BoV(w2v)\n",
        "\n",
        "# Load sentences in \"PATH_TO_DATA/sentences.txt\"\n",
        "# used very simple tokenization, using only spaces to delimit words with .split() function\n",
        "sentences = [line.rstrip('\\n') for line in open(os.path.join(PATH_TO_DATA, 'sentences.txt'))]\n",
        "\n",
        "# Build idf scores for each word\n",
        "idf = s2v.build_idf(sentences)\n",
        "\n",
        "# You will be evaluated on the output of the following:\n",
        "s2v.most_similar('' if not sentences else sentences[10], sentences)  # BoV-mean\n",
        "s = s2v.score('' if not sentences else sentences[7], '' if not sentences else sentences[13])\n",
        "print(s)\n",
        "\n",
        " \n",
        "s2v.most_similar('' if not sentences else sentences[10], sentences, idf)  # BoV-idf\n",
        "s = s2v.score('' if not sentences else sentences[7], '' if not sentences else sentences[13], idf)\n",
        "print(s)"
      ],
      "execution_count": 9,
      "outputs": [
        {
          "output_type": "stream",
          "text": [
            "Loaded 200000 pretrained word vectors\n",
            "original sentence : 1 smiling african american boy . \n",
            "  an african american man is sitting . \n",
            "  an afican american woman standing behind two small african american children . \n",
            "  a little african american boy and girl looking up . \n",
            "  an african american man smiling . \n",
            "  1 smiling african american boy . \n",
            "0.5726258859719605\n",
            "original sentence : 1 smiling african american boy . \n",
            "  an afican american woman standing behind two small african american children . \n",
            "  a little african american boy and girl looking up . \n",
            "  an african american man is sitting . \n",
            "  an african american man smiling . \n",
            "  1 smiling african american boy . \n",
            "0.4750927980105363\n"
          ],
          "name": "stdout"
        }
      ]
    },
    {
      "metadata": {
        "id": "VfqzA2W7BrwQ",
        "colab_type": "text"
      },
      "cell_type": "markdown",
      "source": [
        "# 2) Multilingual (English-French) word embeddings"
      ]
    },
    {
      "metadata": {
        "id": "me-l-jOuBrwT",
        "colab_type": "text"
      },
      "cell_type": "markdown",
      "source": [
        "Let's consider a bilingual dictionary of size V_a (e.g French-English).\n",
        "\n",
        "Let's define **X** and **Y** the **French** and **English** matrices.\n",
        "\n",
        "They contain the embeddings associated to the words in the bilingual dictionary.\n",
        "\n",
        "We want to find a **mapping W** that will project the source word space (e.g French) to the target word space (e.g English).\n",
        "\n",
        "Procrustes : **W\\* = argmin || W.X - Y ||  s.t  W^T.W = Id**\n",
        "has a closed form solution:\n",
        "**W = U.V^T  where  U.Sig.V^T = SVD(Y.X^T)**\n",
        "\n",
        "In what follows, you are asked to: "
      ]
    },
    {
      "metadata": {
        "id": "8CFgkmCuBrwV",
        "colab_type": "code",
        "outputId": "3dd3786e-d1ab-42d8-ecc0-5a64877f8619",
        "colab": {}
      },
      "cell_type": "code",
      "source": [
        "# 1 - Download and load 50k first vectors of\n",
        "#     https://s3-us-west-1.amazonaws.com/fasttext-vectors/wiki.en.vec\n",
        "#     https://s3-us-west-1.amazonaws.com/fasttext-vectors/wiki.fr.vec\n",
        "\n",
        "# TYPE CODE HERE\n",
        "w2v_fr = Word2vec(os.path.join(PATH_TO_DATA, 'wiki.fr.vec'), nmax=50000)\n",
        "w2v_en = Word2vec(os.path.join(PATH_TO_DATA, 'wiki.en.vec'), nmax=50000)\n"
      ],
      "execution_count": 0,
      "outputs": [
        {
          "output_type": "stream",
          "text": [
            "Loaded 50000 pretrained word vectors\n",
            "Loaded 50000 pretrained word vectors\n"
          ],
          "name": "stdout"
        }
      ]
    },
    {
      "metadata": {
        "id": "7P8OZ6feBrwc",
        "colab_type": "code",
        "colab": {}
      },
      "cell_type": "code",
      "source": [
        "# 2 - Get words that appear in both vocabs (= identical character strings)\n",
        "#     Use it to create the matrix X and Y (of aligned embeddings for these words)\n",
        "\n",
        "# TYPE CODE HERE\n",
        "def identic_word(dict1,dict2):\n",
        "    l_word1 = set(dict1.word2vec.keys())\n",
        "    l_word2 = dict2.word2vec.keys()\n",
        "    return [word for word in l_word2 if word in l_word1]\n",
        "    \n",
        "def create_matrix(dict_world, list_words):\n",
        "    X = []\n",
        "    for word in list_words:\n",
        "        X.append(dict_world.word2vec[word])\n",
        "    return np.array(X).T\n",
        "\n",
        "list_words = identic_word(w2v_en, w2v_fr)\n",
        "X_fr = create_matrix(w2v_fr, list_words)\n",
        "Y_en = create_matrix(w2v_en, list_words)\n"
      ],
      "execution_count": 0,
      "outputs": []
    },
    {
      "metadata": {
        "id": "nRa2ABlMBrwf",
        "colab_type": "code",
        "colab": {}
      },
      "cell_type": "code",
      "source": [
        "# 3 - Solve the Procrustes using the scipy package and: scipy.linalg.svd() and get the optimal W\n",
        "#     Now W*French_vector is in the same space as English_vector\n",
        "\n",
        "import scipy.linalg as spl\n",
        "\n",
        "# TYPE CODE HERE\n",
        "def find_mapping(X,Y):\n",
        "    U,s,Vh = spl.svd(np.dot(Y,X.T))\n",
        "    return np.dot(U,Vh)\n",
        "\n",
        "W = find_mapping(X_fr,Y_en)\n"
      ],
      "execution_count": 0,
      "outputs": []
    },
    {
      "metadata": {
        "id": "HVEl61pzBrwh",
        "colab_type": "code",
        "outputId": "0d0f9457-5380-45eb-9245-8ac2d51a0736",
        "colab": {}
      },
      "cell_type": "code",
      "source": [
        "# 4 - After alignment with W, give examples of English nearest neighbors of some French words (and vice versa)\n",
        "#     You will be evaluated on that part and the code above\n",
        "\n",
        "# TYPE CODE HERE\n",
        "\n",
        "# French to English \n",
        "print('French -> English :')\n",
        "for w1 in ['jeu', 'village', 'guerre', 'chat', 'chien']:\n",
        "    embd_en = np.dot(W,w2v_fr.word2vec[w1])\n",
        "    w2v_en.word2vec['added_french_word'] = embd_en\n",
        "    print(w1,w2v_en.most_similar('added_french_word'))\n",
        "    \n",
        "# English to French\n",
        "print('English -> French :')\n",
        "for w1 in ['asparagus', 'city', 'war', 'tiger', 'poodle']:\n",
        "    embd_en = np.dot(W.T,w2v_en.word2vec[w1])\n",
        "    w2v_fr.word2vec['added_english_word'] = embd_en\n",
        "    print(w1,w2v_fr.most_similar('added_english_word'))"
      ],
      "execution_count": 0,
      "outputs": [
        {
          "output_type": "stream",
          "text": [
            "French -> English\n",
            "jeu ['multiplayer', 'dreamcast', 'videogame', 'game', 'gameplay']\n",
            "village ['wielkie', 'kolonia', 'wieś', 'villages', 'village']\n",
            "guerre ['wwi', 'guerre', 'wars', 'hostilities', 'war']\n",
            "chat ['poodle', 'feline', 'hamster', 'rabbit', 'cat']\n",
            "chien ['spaniel', 'dogs', 'terrier', 'poodle', 'dog']\n",
            "English -> French\n",
            "asparagus ['légumes', 'légume', 'ananas', 'haricots', 'légumineuses']\n",
            "city ['villes', 'cities', 'town', 'ville', 'city']\n",
            "war ['military', 'guerres', 'mondialeseconde', 'war', 'guerre']\n",
            "tiger ['bison', 'panther', 'tigre', 'tigres', 'tiger']\n",
            "poodle ['lapin', 'hound', 'chatte', 'chienne', 'chien']\n"
          ],
          "name": "stdout"
        }
      ]
    },
    {
      "metadata": {
        "id": "emP8pPVUBrwl",
        "colab_type": "text"
      },
      "cell_type": "markdown",
      "source": [
        "If you want to dive deeper on this subject: https://github.com/facebookresearch/MUSE"
      ]
    },
    {
      "metadata": {
        "id": "hi_V__QLBrwm",
        "colab_type": "text"
      },
      "cell_type": "markdown",
      "source": [
        "# 3) Sentence classification with BoV and scikit-learn"
      ]
    },
    {
      "metadata": {
        "id": "-Hv_LTCvBrwm",
        "colab_type": "code",
        "colab": {}
      },
      "cell_type": "code",
      "source": [
        "# 1 - Load train/dev/test of Stanford Sentiment TreeBank (SST)\n",
        "#     (https://nlp.stanford.edu/~socherr/EMNLP2013_RNTN.pdf)\n",
        "\n",
        "# TYPE CODE HERE\n",
        "def load_set(name):\n",
        "    if name == 'stsa.fine.test.X':\n",
        "        return [line.rstrip('\\n') for line in open(os.path.join(PATH_TO_DATA, name))]\n",
        "    else : \n",
        "        s = [line.rstrip('\\n') for line in open(os.path.join(PATH_TO_DATA, name))]\n",
        "        label = np.array([int(sentence[0]) for sentence in s])\n",
        "        sent = [sentence[2:] for sentence in s]\n",
        "        return sent, label\n",
        "\n",
        "sent_train, Y_train = load_set('stsa.fine.train')\n",
        "sent_dev, Y_dev = load_set('stsa.fine.dev')\n",
        "sent_test = load_set('stsa.fine.test.X')\n",
        "    "
      ],
      "execution_count": 0,
      "outputs": []
    },
    {
      "metadata": {
        "id": "L9HqMjZJBrwr",
        "colab_type": "code",
        "colab": {}
      },
      "cell_type": "code",
      "source": [
        "# 2 - Encode sentences with the BoV model above\n",
        "\n",
        "# TYPE CODE HERE\n",
        "X_train_1 = s2v.encode(sent_train)\n",
        "X_dev_1 = s2v.encode(sent_dev)\n",
        "\n",
        "idf = s2v.build_idf(sent_train)\n",
        "X_train_2 = s2v.encode(sent_train, idf)\n",
        "X_dev_2 = s2v.encode(sent_dev, idf)\n"
      ],
      "execution_count": 0,
      "outputs": []
    },
    {
      "metadata": {
        "id": "-MF8rvr1Brwt",
        "colab_type": "code",
        "outputId": "6437fa56-c64b-4973-e437-c768ba0d786d",
        "colab": {
          "base_uri": "https://localhost:8080/",
          "height": 679
        }
      },
      "cell_type": "code",
      "source": [
        "# 3 - Learn Logistic Regression on top of sentence embeddings using scikit-learn\n",
        "#     (consider tuning the L2 regularization on the dev set)\n",
        "\n",
        "import sklearn.linear_model as skl\n",
        "from sklearn.metrics import log_loss\n",
        "import matplotlib.pyplot as plt\n",
        "\n",
        "%matplotlib inline  \n",
        "\n",
        "# TYPE CODE HERE\n",
        "def tune_model(X_train, Y_train, X_dev, Y_dev):\n",
        "    list_C = np.logspace(-2, 1, num=20)\n",
        "    list_acc_dev = []\n",
        "    list_acc_train = []\n",
        "    list_loss_dev = []\n",
        "    list_loss_train = []\n",
        "    for C in list_C:\n",
        "        # definition of the classifier and fit on the training set \n",
        "        classifier = skl.LogisticRegression(random_state=0, solver='saga',\n",
        "                                multi_class='multinomial', penalty='l2', C=C, max_iter=10000).fit(X_train, Y_train)\n",
        "        list_acc_dev.append(classifier.score(X_dev, Y_dev))\n",
        "        list_acc_train.append(classifier.score(X_train, Y_train))\n",
        "        y_pred_dev = classifier.predict_proba(X_dev)\n",
        "        y_pred_train = classifier.predict_proba(X_train)\n",
        "        list_loss_dev.append(log_loss(Y_dev, y_pred_dev))\n",
        "        list_loss_train.append(log_loss(Y_train, y_pred_train))\n",
        "    return list_C, list_acc_dev, list_acc_train, list_loss_dev, list_loss_train\n",
        "\n",
        "\n",
        "def plot_tunning(list_C, list_acc_dev, list_acc_train, list_loss_dev, list_loss_train, logscale=True):\n",
        "    plt.figure(figsize=(10,4))\n",
        "    plt.subplot(1,2,1)\n",
        "    plt.plot(list_C, list_acc_dev, label='dev_set')\n",
        "    plt.plot(list_C, list_acc_train, label='train_set')\n",
        "    if logscale : \n",
        "        plt.xscale('log')\n",
        "    plt.title('Classifier Mean accuracy')\n",
        "    plt.ylabel('Mean accuracy')\n",
        "    plt.legend()\n",
        "    \n",
        "    plt.subplot(1,2,2)\n",
        "    plt.plot(list_C, list_loss_dev, label='dev_set')\n",
        "    plt.plot(list_C, list_loss_train, label='train_set')\n",
        "    if logscale : \n",
        "        plt.xscale('log')\n",
        "    plt.title('Classifier Loss')\n",
        "    plt.ylabel('Cross-Entropy Loss')\n",
        "    plt.legend()\n",
        "    \n",
        "    plt.tight_layout()\n",
        "    plt.show()\n",
        "    return\n",
        "\n",
        "# BoV-mean\n",
        "list_C, list_acc_dev_1, list_acc_train_1, list_loss_dev_1, list_loss_train_1 = tune_model(X_train_1, Y_train, \n",
        "                                                                                             X_dev_1, Y_dev)\n",
        "# BoV-idf\n",
        "list_C, list_acc_dev_2, list_acc_train_2, list_loss_dev_2, list_loss_train_2 = tune_model(X_train_2, Y_train, \n",
        "                                                                                              X_dev_2, Y_dev)\n",
        "\n",
        "plot_tunning(list_C, list_acc_dev_1, list_acc_train_1, list_loss_dev_1, list_loss_train_1)\n",
        "plot_tunning(list_C, list_acc_dev_2, list_acc_train_2, list_loss_dev_2, list_loss_train_2)\n",
        "\n",
        "\n",
        "opt_C_mean = list_C[np.argmin(list_loss_dev_1)]\n",
        "print('opt C BoV mean is : {}'.format(opt_C_mean))\n",
        "print('Loss on train set is : {}'.format(np.min(list_loss_train_1)))\n",
        "print('Loss on dev set is : {}'.format(np.min(list_loss_dev_1)))\n",
        "\n",
        "opt_C_idf = list_C[np.argmin(list_loss_dev_2)]\n",
        "print('opt C BoV idf is : {}'.format(opt_C_mean))\n",
        "print('Loss on train set is : {}'.format(np.min(list_loss_train_2)))\n",
        "print('Loss on dev set is : {}'.format(np.min(list_loss_dev_2)))"
      ],
      "execution_count": 13,
      "outputs": [
        {
          "output_type": "display_data",
          "data": {
            "image/png": "[encoded data removed]",
            "text/plain": [
              "<matplotlib.figure.Figure at 0x7fa57c809780>"
            ]
          },
          "metadata": {
            "tags": []
          }
        },
        {
          "output_type": "display_data",
          "data": {
            "image/png": "[encoded data removed]",
            "text/plain": [
              "<matplotlib.figure.Figure at 0x7fa57c809908>"
            ]
          },
          "metadata": {
            "tags": []
          }
        },
        {
          "output_type": "stream",
          "text": [
            "opt C BoV mean is : 0.7847599703514611\n",
            "Loss on train set is : 1.14350604647192\n",
            "Loss on dev set is : 1.2787029569300967\n",
            "opt C BoV idf is : 0.7847599703514611\n",
            "Loss on train set is : 1.1585738579910883\n",
            "Loss on dev set is : 1.2995648282953751\n"
          ],
          "name": "stdout"
        }
      ]
    },
    {
      "metadata": {
        "id": "IneHv6ZuBrwx",
        "colab_type": "code",
        "colab": {}
      },
      "cell_type": "code",
      "source": [
        "# 4 - Produce 2210 predictions for the test set (in the same order). One line = one prediction (=0,1,2,3,4).\n",
        "#     Attach the output file \"logreg_bov_y_test_sst.txt\" to your deliverable.\n",
        "#     You will be evaluated on the results of the test set.\n",
        "\n",
        "# TYPE CODE HERE\n",
        "# For C = 0.76 (fine tuning on the dev set) - choosed BoV-mean \n",
        "X_test = s2v.encode(sent_test)\n",
        "C = 0.76\n",
        "best_class_classifier = skl.LogisticRegression(random_state=0, solver='saga',\n",
        "                                multi_class='multinomial', penalty='l2', C=C, max_iter=10000).fit(X_train_1, Y_train)\n",
        "\n",
        "Y_test_pred = list(best_class_classifier.predict(X_test))\n",
        "\n",
        "# writing text file\n",
        "with open('logreg_bov_y_test_sst.txt', 'w') as f:\n",
        "    for item in Y_test_pred:\n",
        "        f.write(\"%s\\n\" % item)\n",
        "\n",
        "files.download('logreg_bov_y_test_sst.txt')   "
      ],
      "execution_count": 0,
      "outputs": []
    },
    {
      "metadata": {
        "id": "O8adOfp8Brw2",
        "colab_type": "code",
        "colab": {}
      },
      "cell_type": "code",
      "source": [
        "# BONUS!\n",
        "# 5 - Try to improve performance with another classifier\n",
        "#     Attach the output file \"XXX_bov_y_test_sst.txt\" to your deliverable (where XXX = the name of the classifier)\n",
        "\n",
        "# TYPE CODE HERE"
      ],
      "execution_count": 0,
      "outputs": []
    },
    {
      "metadata": {
        "id": "CnYdS2AQBrw8",
        "colab_type": "text"
      },
      "cell_type": "markdown",
      "source": [
        "# 4) Sentence classification with LSTMs in Keras"
      ]
    },
    {
      "metadata": {
        "id": "m0YvOy-SBrw9",
        "colab_type": "text"
      },
      "cell_type": "markdown",
      "source": [
        "## 4.1 - Preprocessing"
      ]
    },
    {
      "metadata": {
        "id": "-p9cjVMkBrw-",
        "colab_type": "code",
        "colab": {
          "base_uri": "https://localhost:8080/",
          "height": 34
        },
        "outputId": "8c9d22c4-6015-44fc-ad99-0105d4b89cbb"
      },
      "cell_type": "code",
      "source": [
        "import keras\n",
        "from keras.utils import to_categorical"
      ],
      "execution_count": 1,
      "outputs": [
        {
          "output_type": "stream",
          "text": [
            "Using TensorFlow backend.\n"
          ],
          "name": "stderr"
        }
      ]
    },
    {
      "metadata": {
        "id": "9NFAYsw9BrxC",
        "colab_type": "code",
        "colab": {}
      },
      "cell_type": "code",
      "source": [
        "# 1 - Load train/dev/test sets of SST\n",
        "PATH_TO_DATA = \"/content/gdrive/My Drive/Colab Notebooks/Deep MP2/\"\n",
        "\n",
        "# To be used on gg colab\n",
        "def load_set_gg_colab(name):\n",
        "    if name == 'stsa.fine.test.X':\n",
        "        return [line.rstrip('\\n') for line in open(os.path.join(PATH_TO_DATA, name))]\n",
        "    else : \n",
        "        s = [line.rstrip('\\n') for line in open(os.path.join(PATH_TO_DATA, name))]\n",
        "        label = np.array([int(sentence[0]) for sentence in s])\n",
        "        sent = [sentence[2:] for sentence in s]\n",
        "        return sent, label\n",
        "\n",
        "\n",
        "# TYPE CODE HERE\n",
        "sent_train, Y_train = load_set_gg_colab('stsa.fine.train')\n",
        "Y_train = to_categorical(Y_train)\n",
        "sent_dev, Y_dev = load_set_gg_colab('stsa.fine.dev')\n",
        "Y_dev = to_categorical(Y_dev)\n",
        "sent_test = load_set_gg_colab('stsa.fine.test.X')"
      ],
      "execution_count": 0,
      "outputs": []
    },
    {
      "metadata": {
        "id": "frj84kHrBrxI",
        "colab_type": "code",
        "colab": {}
      },
      "cell_type": "code",
      "source": [
        "# 2 - Transform text to integers using keras.preprocessing.text.one_hot function\n",
        "#     https://keras.io/preprocessing/text/\n",
        "\n",
        "\n",
        "# TYPE CODE HERE\n",
        "\n",
        "def process_sentence(sentence_list, vocab_size):\n",
        "    return [keras.preprocessing.text.one_hot(sentence, vocab_size) for sentence in sentence_list]\n",
        "\n",
        "vocab_size = 5000\n",
        "encode_train = process_sentence(sent_train, vocab_size)\n",
        "encode_dev = process_sentence(sent_dev, vocab_size)\n",
        "encode_test = process_sentence(sent_test, vocab_size)"
      ],
      "execution_count": 0,
      "outputs": []
    },
    {
      "metadata": {
        "id": "IQxNrSdRBrxL",
        "colab_type": "text"
      },
      "cell_type": "markdown",
      "source": [
        "**Padding input data**\n",
        "\n",
        "Models in Keras (and elsewhere) take batches of sentences of the same length as input. It is because Deep Learning framework have been designed to handle well Tensors, which are particularly suited for fast computation on the GPU.\n",
        "\n",
        "Since sentences have different sizes, we \"pad\" them. That is, we add dummy \"padding\" tokens so that they all have the same length.\n",
        "\n",
        "The input to a Keras model thus has this size : (batchsize, maxseqlen) where maxseqlen is the maximum length of a sentence in the batch."
      ]
    },
    {
      "metadata": {
        "id": "hAAtTEBPBrxL",
        "colab_type": "code",
        "colab": {}
      },
      "cell_type": "code",
      "source": [
        "# 3 - Pad your sequences using keras.preprocessing.sequence.pad_sequences\n",
        "#     https://keras.io/preprocessing/sequence/\n",
        "\n",
        "from keras.preprocessing.sequence import pad_sequences\n",
        "\n",
        "# TYPE CODE HERE\n",
        "X_train = pad_sequences(encode_train)\n",
        "X_dev = pad_sequences(encode_dev)\n",
        "X_test =pad_sequences(encode_test)"
      ],
      "execution_count": 0,
      "outputs": []
    },
    {
      "metadata": {
        "id": "-4vYVNnWBrxP",
        "colab_type": "text"
      },
      "cell_type": "markdown",
      "source": [
        "## 4.2 - Design and train your model"
      ]
    },
    {
      "metadata": {
        "id": "oj6OeE4rBrxQ",
        "colab_type": "code",
        "colab": {}
      },
      "cell_type": "code",
      "source": [
        "# 4 - Design your encoder + classifier using keras.layers\n",
        "#     In Keras, Torch and other deep learning framework, we create a \"container\" which is the Sequential() module.\n",
        "#     Then we add components to this contained : the lookuptable, the LSTM, the classifier etc.\n",
        "#     All of these components are contained in the Sequential() and are trained together.\n",
        "\n",
        "\n",
        "# ADAPT CODE BELOW\n",
        "\n",
        "\n",
        "from keras.models import Sequential, Model\n",
        "from keras.layers import Embedding, LSTM, Dense, Activation\n",
        "from keras.regularizers import l2, l1\n",
        "\n",
        "embed_dim  = 32  # word embedding dimension\n",
        "nhid       = 128 # number of hidden units in the LSTM\n",
        "vocab_size = 5000  # size of the vocabulary\n",
        "n_classes  = 5\n",
        "\n",
        "model = Sequential()\n",
        "model.add(Embedding(vocab_size, embed_dim))\n",
        "model.add(LSTM(nhid, dropout=0.2, recurrent_dropout=0.2, kernel_regularizer=l2(0.1), recurrent_regularizer=l2(0.1)))\n",
        "model.add(Dense(n_classes, activation='softmax'))\n"
      ],
      "execution_count": 0,
      "outputs": []
    },
    {
      "metadata": {
        "id": "lWm5qOmqBrxS",
        "colab_type": "code",
        "outputId": "253a668a-8b62-42a4-fdc4-7a1eebaf5705",
        "colab": {
          "base_uri": "https://localhost:8080/",
          "height": 255
        }
      },
      "cell_type": "code",
      "source": [
        "# 5 - Define your loss/optimizer/metrics\n",
        "\n",
        "# MODIFY CODE BELOW\n",
        "from keras import optimizers\n",
        "\n",
        "\n",
        "loss_classif     =  'categorical_crossentropy' # find the right loss for multi-class classification\n",
        "optimizer        =  optimizers.Adam(lr=0.001) # find the right optimizer\n",
        "metrics_classif  =  ['accuracy']\n",
        "\n",
        "# Observe how easy (but blackboxed) this is in Keras\n",
        "model.compile(loss=loss_classif,\n",
        "              optimizer=optimizer,\n",
        "              metrics=metrics_classif)\n",
        "print(model.summary())"
      ],
      "execution_count": 25,
      "outputs": [
        {
          "output_type": "stream",
          "text": [
            "_________________________________________________________________\n",
            "Layer (type)                 Output Shape              Param #   \n",
            "=================================================================\n",
            "embedding_4 (Embedding)      (None, None, 32)          160000    \n",
            "_________________________________________________________________\n",
            "lstm_4 (LSTM)                (None, 128)               82432     \n",
            "_________________________________________________________________\n",
            "dense_4 (Dense)              (None, 5)                 645       \n",
            "=================================================================\n",
            "Total params: 243,077\n",
            "Trainable params: 243,077\n",
            "Non-trainable params: 0\n",
            "_________________________________________________________________\n",
            "None\n"
          ],
          "name": "stdout"
        }
      ]
    },
    {
      "metadata": {
        "id": "DR54i1UvBrxU",
        "colab_type": "code",
        "outputId": "8c678d78-d3eb-47d3-cda2-b7d6030c6b42",
        "colab": {
          "base_uri": "https://localhost:8080/",
          "height": 1020
        }
      },
      "cell_type": "code",
      "source": [
        "# 6 - Train your model and find the best hyperparameters for your dev set\n",
        "#     you will be evaluated on the quality of your predictions on the test set\n",
        "\n",
        "# ADAPT CODE BELOW\n",
        "import matplotlib.pyplot as plt\n",
        "\n",
        "%matplotlib inline  \n",
        "\n",
        "def plot_tunning(history, name):\n",
        "    plt.figure(figsize=(10,4))\n",
        "    plt.subplot(1,2,1)\n",
        "    plt.plot(history.history['acc'][1:], label='train_set')\n",
        "    plt.plot(history.history['val_acc'][1:], label='dev_set')\n",
        "    plt.title('{} Classifier Accuracy'.format(name))\n",
        "    plt.ylabel('Accuracy')\n",
        "    plt.xlabel('Epoch')\n",
        "    plt.legend()\n",
        "    \n",
        "    plt.subplot(1,2,2)\n",
        "    plt.plot(history.history['loss'][1:], label='train_set')\n",
        "    plt.plot(history.history['val_loss'][1:], label='dev_set')\n",
        "    plt.title('{} Classifier Loss'.format(name))\n",
        "    plt.ylabel('Cross-Entropy Loss')\n",
        "    plt.xlabel('Epoch')\n",
        "    plt.legend()\n",
        "    \n",
        "    plt.tight_layout()\n",
        "    plt.show()\n",
        "    return\n",
        "\n",
        "\n",
        "bs = 32\n",
        "n_epochs = 6\n",
        "\n",
        "history = model.fit(X_train, Y_train, batch_size=bs, epochs=n_epochs, validation_data=(X_dev, Y_dev))\n",
        "\n",
        "plot_tunning(history, 'LSTM')"
      ],
      "execution_count": 26,
      "outputs": [
        {
          "output_type": "stream",
          "text": [
            "Train on 8544 samples, validate on 1101 samples\n",
            "Epoch 1/6\n",
            "8544/8544 [==============================] - 34s 4ms/step - loss: 3.5718 - acc: 0.2659 - val_loss: 1.5747 - val_acc: 0.2534\n",
            "Epoch 2/6\n",
            "8544/8544 [==============================] - 32s 4ms/step - loss: 1.5704 - acc: 0.2679 - val_loss: 1.5796 - val_acc: 0.2534\n",
            "Epoch 3/6\n",
            "8544/8544 [==============================] - 31s 4ms/step - loss: 1.5699 - acc: 0.2724 - val_loss: 1.5731 - val_acc: 0.2525\n",
            "Epoch 4/6\n",
            "8544/8544 [==============================] - 31s 4ms/step - loss: 1.5569 - acc: 0.3274 - val_loss: 1.5277 - val_acc: 0.3488\n",
            "Epoch 5/6\n",
            "8544/8544 [==============================] - 32s 4ms/step - loss: 1.4430 - acc: 0.4033 - val_loss: 1.4912 - val_acc: 0.3715\n",
            "Epoch 6/6\n",
            "8544/8544 [==============================] - 31s 4ms/step - loss: 1.3446 - acc: 0.4396 - val_loss: 1.4873 - val_acc: 0.3642\n"
          ],
          "name": "stdout"
        }
      ]
    },
    {
      "metadata": {
        "id": "QgWSjVQ4BrxX",
        "colab_type": "code",
        "colab": {}
      },
      "cell_type": "code",
      "source": [
        "# 7 - Generate your predictions on the test set using model.predict(x_test)\n",
        "#     https://keras.io/models/model/\n",
        "#     Log your predictions in a file (one line = one integer: 0,1,2,3,4)\n",
        "#     Attach the output file \"logreg_lstm_y_test_sst.txt\" to your deliverable.\n",
        "\n",
        "# TYPE CODE HERE\n",
        "\n",
        "# test set predictions\n",
        "predicted_labels = np.argmax(model.predict(X_test), axis=-1)\n",
        "\n",
        "# saving in the output file\n",
        "with open('logreg_lstm_y_test_sst.txt', 'w') as f:\n",
        "    for item in predicted_labels:\n",
        "        f.write(\"%s\\n\" % item)\n",
        "\n",
        "files.download('logreg_lstm_y_test_sst.txt')"
      ],
      "execution_count": 0,
      "outputs": []
    },
    {
      "metadata": {
        "id": "6xykzJnrBrxa",
        "colab_type": "text"
      },
      "cell_type": "markdown",
      "source": [
        "## 4.3 -- innovate !"
      ]
    },
    {
      "metadata": {
        "id": "N-B8wW8nBrxa",
        "colab_type": "code",
        "colab": {
          "base_uri": "https://localhost:8080/",
          "height": 1020
        },
        "outputId": "9b47b1de-4ceb-4288-a27f-e9bf04b11f5a"
      },
      "cell_type": "code",
      "source": [
        "# 8 - Open question: find a model that is better on your dev set\n",
        "#     (e.g: use a 1D ConvNet, use a better classifier, pretrain your lookup tables ..)\n",
        "#     you will get point if the results on the test set are better: be careful of not overfitting your dev set too much..\n",
        "#     Attach the output file \"XXX_XXX_y_test_sst.txt\" to your deliverable.\n",
        "\n",
        "# TYPE CODE HERE\n",
        "\n",
        "from keras.preprocessing.text import Tokenizer\n",
        "from keras.preprocessing.sequence import pad_sequences\n",
        "from keras.layers import Conv1D, MaxPooling1D, Flatten, Input, GlobalMaxPooling1D, concatenate, Dropout\n",
        "\n",
        "import numpy as np\n",
        "np.random.seed(1337) # for reproducibility\n",
        "\n",
        "MAX_NUM_WORDS = 20000\n",
        "EMBEDDING_DIM = 300\n",
        "MAX_SEQUENCE_LENGTH = 1\n",
        "\n",
        "# word embedding (used glove instead of provided word2vec since there were less missing words in glove when\n",
        "# when reading the sets - 347 missing words vs 1779 missing words)\n",
        "embeddings_index = {}\n",
        "with open(os.path.join(PATH_TO_DATA, 'glove.6B.300d.txt')) as f:\n",
        "    for line in f:\n",
        "        values = line.split()\n",
        "        word = values[0]\n",
        "        coefs = np.asarray(values[1:], dtype='float32')\n",
        "        embeddings_index[word] = coefs\n",
        "\n",
        "tokenizer = Tokenizer(num_words=MAX_NUM_WORDS)\n",
        "tokenizer.fit_on_texts(sent_train)\n",
        "sequences_train = tokenizer.texts_to_sequences(sent_train)\n",
        "sequences_dev = tokenizer.texts_to_sequences(sent_dev)\n",
        "sequences_test = tokenizer.texts_to_sequences(sent_test)\n",
        "\n",
        "\n",
        "\n",
        "# find longest sequence amongst all sets to pad sentences\n",
        "for sequences in [sequences_train,sequences_dev, sequences_test]:\n",
        "  for l in sequences : \n",
        "    if len(l)>MAX_SEQUENCE_LENGTH:\n",
        "        MAX_SEQUENCE_LENGTH = len(l)\n",
        "        \n",
        "x_train = pad_sequences(sequences_train, MAX_SEQUENCE_LENGTH)\n",
        "x_dev = pad_sequences(sequences_dev, MAX_SEQUENCE_LENGTH)\n",
        "x_test = pad_sequences(sequences_test, MAX_SEQUENCE_LENGTH)\n",
        "\n",
        "# pretrained embedding\n",
        "num_words = min(MAX_NUM_WORDS, len(word_index)) + 1\n",
        "embedding_matrix = np.zeros((num_words, EMBEDDING_DIM))\n",
        "\n",
        "for word, i in word_index.items():\n",
        "    if i > MAX_NUM_WORDS:\n",
        "        continue\n",
        "    embedding_vector = embeddings_index.get(word)\n",
        "    if embedding_vector is not None:\n",
        "        # words not found in embedding index will be all-zeros.\n",
        "        embedding_matrix[i] = embedding_vector\n",
        "\n",
        "\n",
        "embedding_layer = Embedding(len(word_index) + 1,\n",
        "                            EMBEDDING_DIM,\n",
        "                            weights=[embedding_matrix],\n",
        "                            input_length=MAX_SEQUENCE_LENGTH,\n",
        "                            trainable=False)\n",
        "# building network\n",
        "nb_filter = 50\n",
        "filter_lengths = [1,2,3]\n",
        "hidden_dims = 128\n",
        "\n",
        "sequence_input = Input(shape=(MAX_SEQUENCE_LENGTH,), dtype='int32')\n",
        "embedded_sequences = embedding_layer(sequence_input)\n",
        "\n",
        "\n",
        "words_convolutions = []\n",
        "for filter_length in filter_lengths:\n",
        "    words_conv = Conv1D(filters=nb_filter,\n",
        "                            kernel_size=filter_length,\n",
        "                            padding='same',\n",
        "                            activation='relu',\n",
        "                            strides=1)(embedded_sequences)\n",
        "                            \n",
        "    words_conv = GlobalMaxPooling1D()(words_conv)      \n",
        "    \n",
        "    words_convolutions.append(words_conv)  \n",
        "\n",
        "output = concatenate(words_convolutions)\n",
        "\n",
        "\n",
        "\n",
        "# hidden layer with dropout layers:\n",
        "output = Dropout(0.5)(output)\n",
        "output = Dense(hidden_dims, activation='tanh', kernel_regularizer=l2(0.01))(output)\n",
        "output = Dropout(0.25)(output)\n",
        "\n",
        "\n",
        "# output layer with a softmax activation function:\n",
        "output = Dense(n_classes, activation='softmax',  kernel_regularizer=l2(0.01))(output)\n",
        "\n",
        "model = Model(inputs=[sequence_input], outputs=[output])\n",
        "model.compile(loss='categorical_crossentropy', optimizer='adam', metrics=['accuracy'])\n",
        "\n",
        "\n",
        "# optim parameters\n",
        "bs = 64\n",
        "n_epochs = 10\n",
        "\n",
        "# training\n",
        "hist = model.fit(x_train, Y_train, validation_data=(x_dev, Y_dev),\n",
        "                 epochs=n_epochs, batch_size=bs)\n",
        "\n",
        "# plot learning\n",
        "plot_tunning(hist)\n",
        "\n",
        "# test set predictions\n",
        "predicted_labels = np.argmax(model.predict(X_test), axis=-1)\n",
        "\n",
        "# saving in the output file\n",
        "with open('XXX_XXX_y_test_sst.txt', 'w') as f:\n",
        "    for item in predicted_labels:\n",
        "        f.write(\"%s\\n\" % item)\n",
        "\n",
        "files.download('XXX_XXX_y_test_sst.txt')\n"
      ],
      "execution_count": 116,
      "outputs": [
        {
          "output_type": "stream",
          "text": [
            "Train on 8544 samples, validate on 1101 samples\n",
            "Epoch 1/10\n",
            "8544/8544 [==============================] - 6s 754us/step - loss: 2.7937 - acc: 0.2763 - val_loss: 2.2494 - val_acc: 0.3769\n",
            "Epoch 2/10\n",
            "8544/8544 [==============================] - 2s 186us/step - loss: 2.0712 - acc: 0.3668 - val_loss: 1.8413 - val_acc: 0.3942\n",
            "Epoch 3/10\n",
            "8544/8544 [==============================] - 2s 186us/step - loss: 1.7060 - acc: 0.4154 - val_loss: 1.6274 - val_acc: 0.3924\n",
            "Epoch 4/10\n",
            "8544/8544 [==============================] - 2s 188us/step - loss: 1.5110 - acc: 0.4464 - val_loss: 1.5172 - val_acc: 0.3996\n",
            "Epoch 5/10\n",
            "8544/8544 [==============================] - 2s 187us/step - loss: 1.3806 - acc: 0.4695 - val_loss: 1.4399 - val_acc: 0.4242\n",
            "Epoch 6/10\n",
            "8544/8544 [==============================] - 2s 184us/step - loss: 1.2912 - acc: 0.5042 - val_loss: 1.4374 - val_acc: 0.4105\n",
            "Epoch 7/10\n",
            "8544/8544 [==============================] - 2s 186us/step - loss: 1.2458 - acc: 0.5167 - val_loss: 1.4114 - val_acc: 0.4169\n",
            "Epoch 8/10\n",
            "8544/8544 [==============================] - 2s 183us/step - loss: 1.2008 - acc: 0.5445 - val_loss: 1.4118 - val_acc: 0.4223\n",
            "Epoch 9/10\n",
            "8544/8544 [==============================] - 2s 183us/step - loss: 1.1658 - acc: 0.5536 - val_loss: 1.4530 - val_acc: 0.4024\n",
            "Epoch 10/10\n",
            "8544/8544 [==============================] - 2s 181us/step - loss: 1.1319 - acc: 0.5829 - val_loss: 1.4278 - val_acc: 0.4142\n"
          ],
          "name": "stdout"
        },
        {
          "output_type": "display_data",
          "data": {
            "image/png": "[encoded data removed]",
            "text/plain": [
              "<matplotlib.figure.Figure at 0x7f203e932828>"
            ]
          },
          "metadata": {
            "tags": []
          }
        }
      ]
    }
  ]
}